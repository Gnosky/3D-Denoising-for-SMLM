{
 "cells": [
  {
   "cell_type": "code",
   "execution_count": 1,
   "metadata": {
    "ExecuteTime": {
     "end_time": "2019-10-23T21:55:05.563108Z",
     "start_time": "2019-10-23T21:54:57.563164Z"
    }
   },
   "outputs": [
    {
     "name": "stderr",
     "output_type": "stream",
     "text": [
      "Using TensorFlow backend.\n"
     ]
    }
   ],
   "source": [
    "# original imports\n",
    "import numpy as np\n",
    "from keras import Input\n",
    "from keras.models import Model\n",
    "from keras.layers import Input, Lambda, Conv2D, LeakyReLU, UpSampling2D, MaxPooling2D, ZeroPadding2D, Cropping2D, Concatenate, Reshape, GlobalAveragePooling2D\n",
    "from keras.initializers import Constant\n",
    "import keras.backend as K\n",
    "import tensorflow as tf\n",
    "\n",
    "from keras.layers import Layer\n",
    "\n",
    "# additional imports\n",
    "from keras.layers import Conv3D, UpSampling3D, MaxPooling3D, ZeroPadding3D, Cropping3D"
   ]
  },
  {
   "cell_type": "markdown",
   "metadata": {},
   "source": [
    "## Make some fake 3-d data"
   ]
  },
  {
   "cell_type": "code",
   "execution_count": 2,
   "metadata": {
    "ExecuteTime": {
     "end_time": "2019-10-23T21:55:05.603900Z",
     "start_time": "2019-10-23T21:55:05.575979Z"
    }
   },
   "outputs": [],
   "source": [
    "frames, height, width = 10, 256,256\n",
    "fake_data = np.random.rand(frames, height, width)"
   ]
  },
  {
   "cell_type": "markdown",
   "metadata": {},
   "source": [
    "## Adapt 2-d auxiliary functions to 3-d"
   ]
  },
  {
   "cell_type": "code",
   "execution_count": 6,
   "metadata": {
    "ExecuteTime": {
     "end_time": "2019-10-23T22:05:17.691952Z",
     "start_time": "2019-10-23T22:05:17.686451Z"
    }
   },
   "outputs": [],
   "source": [
    "def _vshifted_conv(x, num_filters, name):\n",
    "    \"\"\" \n",
    "    Vertically shifted 3-d convolution\n",
    "    \"\"\"\n",
    "    filter_size = [3,3,3]\n",
    "    # Assumes the height is the second dimension\n",
    "    k = filter_size[1]//2\n",
    "\n",
    "    ### 2d code ###\n",
    "#     x = ZeroPadding2D([[k,0],[0,0]])(x)\n",
    "#     x = Conv2D(filters=num_filters, kernel_size=filter_size, padding='same', kernel_initializer='he_normal', name=name)(x)\n",
    "#     x = LeakyReLU(0.1)(x)\n",
    "#     x = Cropping2D([[0,k],[0,0]])(x)\n",
    "\n",
    "    ### 3d adaptation ###\n",
    "    \n",
    "    # assumes first tuple is frame number, second is height, 3rd is width\n",
    "    # padding on height\n",
    "    x = ZeroPadding3D([[0,0],[k,0],[0,0]])(x)\n",
    "    x = Conv3D(filters=num_filters, kernel_size=filter_size, padding='same', kernel_initializer='he_normal', name=name)(x)\n",
    "    x = LeakyReLU(0.1)(x)\n",
    "    x = Cropping3D([[0,0],[0,k],[0,0]])(x)\n",
    "\n",
    "    return x"
   ]
  },
  {
   "cell_type": "code",
   "execution_count": 7,
   "metadata": {
    "ExecuteTime": {
     "end_time": "2019-10-23T22:06:43.045936Z",
     "start_time": "2019-10-23T22:06:43.040942Z"
    }
   },
   "outputs": [],
   "source": [
    "def _vshifted_pool(x):\n",
    "    \"\"\" \n",
    "    Vertically shifted max pooling 3d\n",
    "    \"\"\"\n",
    "    \n",
    "    ### 2d code ###\n",
    "#     x = ZeroPadding2D([[1,0],[0,0]])(x)\n",
    "#     x = Cropping2D([[0,1],[0,0]])(x)\n",
    "\n",
    "#     x = MaxPooling2D(pool_size=2,strides=2,padding='same')(x)\n",
    "\n",
    "    ### 3d adaptation ###\n",
    "    x = ZeroPadding3D([[0,0],[1,0],[0,0]])\n",
    "    x = Cropping3D([[0,0],[0,1],[0,0]])(x)\n",
    "    \n",
    "    x = MaxPooling3D(pool_size=(2,2,2),strides=2,padding='same')(x)\n",
    "\n",
    "    return x"
   ]
  },
  {
   "cell_type": "code",
   "execution_count": 5,
   "metadata": {
    "ExecuteTime": {
     "end_time": "2019-10-23T21:55:22.710388Z",
     "start_time": "2019-10-23T21:55:22.703413Z"
    }
   },
   "outputs": [],
   "source": [
    "def _vertical_blindspot_network(x):\n",
    "    \"\"\" Blind-spot network; adapted from noise2noise GitHub\n",
    "    Each row of output only sees input pixels above that row\n",
    "    \"\"\"\n",
    "    skips = [x]\n",
    "\n",
    "    n = x\n",
    "    n = _vshifted_conv(n, 48, 'enc_conv0')\n",
    "    n = _vshifted_conv(n, 48, 'enc_conv1')\n",
    "    n = _vshifted_pool(n)\n",
    "    skips.append(n)\n",
    "\n",
    "    n = _vshifted_conv(n, 48, 'enc_conv2')\n",
    "    n = _vshifted_pool(n)\n",
    "    skips.append(n)\n",
    "\n",
    "    n = _vshifted_conv(n, 48, 'enc_conv3')\n",
    "    n = _vshifted_pool(n)\n",
    "    skips.append(n)\n",
    "\n",
    "    n = _vshifted_conv(n, 48, 'enc_conv4')\n",
    "    n = _vshifted_pool(n)\n",
    "    skips.append(n)\n",
    "\n",
    "    n = _vshifted_conv(n, 48, 'enc_conv5')\n",
    "    n = _vshifted_pool(n)\n",
    "    n = _vshifted_conv(n, 48, 'enc_conv6')\n",
    "\n",
    "    #-----------------------------------------------\n",
    "    n = UpSampling3D(2)(n)\n",
    "    n = Concatenate(axis=3)([n, skips.pop()])\n",
    "    n = _vshifted_conv(n, 96, 'dec_conv5')\n",
    "    n = _vshifted_conv(n, 96, 'dec_conv5b')\n",
    "\n",
    "    n = UpSampling3D(2)(n)\n",
    "    n = Concatenate(axis=3)([n, skips.pop()])\n",
    "    n = _vshifted_conv(n, 96, 'dec_conv4')\n",
    "    n = _vshifted_conv(n, 96, 'dec_conv4b')\n",
    "\n",
    "    n = UpSampling3D(2)(n)\n",
    "    n = Concatenate(axis=3)([n, skips.pop()])\n",
    "    n = _vshifted_conv(n, 96, 'dec_conv3')\n",
    "    n = _vshifted_conv(n, 96, 'dec_conv3b')\n",
    "\n",
    "    n = UpSampling3D(2)(n)\n",
    "    n = Concatenate(axis=3)([n, skips.pop()])\n",
    "    n = _vshifted_conv(n, 96, 'dec_conv2')\n",
    "    n = _vshifted_conv(n, 96, 'dec_conv2b')\n",
    "\n",
    "    n = UpSampling3D(2)(n)\n",
    "    n = Concatenate(axis=3)([n, skips.pop()])\n",
    "    n = _vshifted_conv(n, 96, 'dec_conv1a')\n",
    "    n = _vshifted_conv(n, 96, 'dec_conv1b')\n",
    "\n",
    "    # final pad and crop for blind spot\n",
    "    n = ZeroPadding3D([[0,0],[1,0],[0,0]])(n)\n",
    "    n = Cropping3D([[0,0],[0,1],[0,0]])(n)\n",
    "\n",
    "    return n"
   ]
  },
  {
   "cell_type": "code",
   "execution_count": 10,
   "metadata": {
    "ExecuteTime": {
     "end_time": "2019-10-23T22:50:22.023548Z",
     "start_time": "2019-10-23T22:50:22.007581Z"
    }
   },
   "outputs": [],
   "source": [
    "def blindspot_network(inputs):\n",
    "    # batch, height, width, depth, channel\n",
    "    b,h,w,d,c = K.int_shape(inputs)\n",
    "    #if h != w:\n",
    "    #raise ValueError('input shape must be square')\n",
    "    if h % 32 != 0 or w % 32 != 0 or d % 32 != 0:\n",
    "        raise ValueError('input shape (%d x %d x %d) must be divisible by 32'%(h,w,d))\n",
    "\n",
    "    # make vertical blindspot network\n",
    "    vert_input = Input([h,w,d,c])\n",
    "    vert_output = _vertical_blindspot_network(vert_input)\n",
    "    vert_model = Model(inputs=vert_input,outputs=vert_output)\n",
    "\n",
    "    # run vertical blindspot network on rotated inputs\n",
    "    stacks = []\n",
    "    for i in range(4):\n",
    "        rotated = Lambda(lambda x: np.rot90(x,i, axis = (1,2)))(inputs)\n",
    "        if i == 0 or i == 2:\n",
    "            rotated = Reshape([h,w,d,c])(rotated)\n",
    "        else:\n",
    "            rotated = Reshape([w,h,d,c])(rotated)\n",
    "            \n",
    "        out = vert_model(rotated)\n",
    "        out = Lambda(lambda x:np.rot90(x,4-i, axes = (1,2)))(out)\n",
    "        stacks.append(out)\n",
    "    for i in [1,3]:\n",
    "        rotated = Lambda(lambda x: np.rot90(x,i, axes = (2,3)))(inputs)\n",
    "        \n",
    "        out = vert_model(rotated)\n",
    "        out = Lambda(lambda x:np.rot90(x,4-i, axes = (2,3)))(out)\n",
    "        stacks.append(out)\n",
    "\n",
    "\n",
    "    # concatenate outputs\n",
    "    x = Concatenate(axis=3)(stacks)\n",
    "\n",
    "    # final 1x1 convolutional layers\n",
    "    x = Conv3D(384, 1, kernel_initializer='he_normal', name='conv1x1_1')(x)\n",
    "    x = LeakyReLU(0.1)(x)\n",
    "\n",
    "    x = Conv3D(96, 1, kernel_initializer='he_normal', name='conv1x1_2')(x)\n",
    "    x = LeakyReLU(0.1)(x)\n",
    "\n",
    "    return x"
   ]
  },
  {
   "cell_type": "code",
   "execution_count": 14,
   "metadata": {
    "ExecuteTime": {
     "end_time": "2019-10-23T23:08:17.827251Z",
     "start_time": "2019-10-23T23:08:17.816287Z"
    }
   },
   "outputs": [],
   "source": [
    "def mean_squared_error_loss(y,loc):\n",
    "    return K.mean(0.5*K.pow(y-loc,2))\n",
    "\n",
    "def mse_blindspot_network(input_shape,train_mean=0,train_std=1):\n",
    "    # create input layer\n",
    "    inputs = Input(input_shape)\n",
    "\n",
    "    # apply normalization\n",
    "    norm_input = Lambda(lambda x: (x-train_mean)/train_std)(inputs)\n",
    "\n",
    "    # run blindspot network\n",
    "    x = blindspot_network(norm_input)\n",
    "\n",
    "    loc = Conv2D(1, 1, name='loc')(x)\n",
    "\n",
    "    output = Lambda(lambda x: x*train_std+train_mean)(loc)\n",
    "\n",
    "    # create model\n",
    "    model = Model(inputs=inputs,outputs=output)\n",
    "\n",
    "    # create loss function\n",
    "    loss = mean_squared_error_loss(norm_input,loc)\n",
    "    model.add_loss(loss)\n",
    "\n",
    "    return model"
   ]
  }
 ],
 "metadata": {
  "kernelspec": {
   "display_name": "Python 3",
   "language": "python",
   "name": "python3"
  },
  "language_info": {
   "codemirror_mode": {
    "name": "ipython",
    "version": 3
   },
   "file_extension": ".py",
   "mimetype": "text/x-python",
   "name": "python",
   "nbconvert_exporter": "python",
   "pygments_lexer": "ipython3",
   "version": "3.6.5"
  },
  "toc": {
   "base_numbering": 1,
   "nav_menu": {},
   "number_sections": true,
   "sideBar": true,
   "skip_h1_title": false,
   "title_cell": "Table of Contents",
   "title_sidebar": "Contents",
   "toc_cell": false,
   "toc_position": {},
   "toc_section_display": true,
   "toc_window_display": false
  },
  "varInspector": {
   "cols": {
    "lenName": 16,
    "lenType": 16,
    "lenVar": 40
   },
   "kernels_config": {
    "python": {
     "delete_cmd_postfix": "",
     "delete_cmd_prefix": "del ",
     "library": "var_list.py",
     "varRefreshCmd": "print(var_dic_list())"
    },
    "r": {
     "delete_cmd_postfix": ") ",
     "delete_cmd_prefix": "rm(",
     "library": "var_list.r",
     "varRefreshCmd": "cat(var_dic_list()) "
    }
   },
   "types_to_exclude": [
    "module",
    "function",
    "builtin_function_or_method",
    "instance",
    "_Feature"
   ],
   "window_display": false
  }
 },
 "nbformat": 4,
 "nbformat_minor": 2
}
